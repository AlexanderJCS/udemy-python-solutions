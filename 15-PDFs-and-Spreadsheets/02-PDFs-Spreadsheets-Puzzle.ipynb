{
 "cells": [
  {
   "cell_type": "markdown",
   "metadata": {},
   "source": [
    "___\n",
    "\n",
    "<a href='https://www.udemy.com/user/joseportilla/'><img src='../Pierian_Data_Logo.png'/></a>\n",
    "___\n",
    "<center><em>Content Copyright by Pierian Data</em></center>"
   ]
  },
  {
   "cell_type": "markdown",
   "metadata": {},
   "source": [
    "# PDFs and Spreadsheets Puzzle Exercise\n",
    "\n",
    "Let's test your skills, the files needed for this puzzle exercise\n",
    "\n",
    "You will need to work with two files for this exercise and solve the following tasks:\n",
    "\n",
    "* Task One: Use Python to extract the Google Drive link from the .csv file. (Hint: Its along the diagonal from top left to bottom right).\n",
    "* Task Two: Download the PDF from the Google Drive link (we already downloaded it for you just in case you can't download from Google Drive) and find the phone number that is in the document. Note: There are different ways of formatting a phone number!"
   ]
  },
  {
   "cell_type": "markdown",
   "metadata": {},
   "source": [
    "## Task One: Grab the Google Drive Link from .csv File"
   ]
  },
  {
   "cell_type": "code",
   "execution_count": 1,
   "outputs": [],
   "source": [
    "import csv"
   ],
   "metadata": {
    "collapsed": false,
    "ExecuteTime": {
     "end_time": "2023-11-20T21:00:16.901483200Z",
     "start_time": "2023-11-20T21:00:16.896483700Z"
    }
   }
  },
  {
   "cell_type": "code",
   "execution_count": 14,
   "outputs": [
    {
     "name": "stdout",
     "output_type": "stream",
     "text": [
      "https://drive.google.com/open?id=1G6SEgg018UB4_4xsAJJ5TdzrhmXipr4Q\n"
     ]
    }
   ],
   "source": [
    "with open(\"Exercise_Files/find_the_link.csv\") as f:\n",
    "    reader = csv.reader(f)\n",
    "    csv_data = list(reader)\n",
    "\n",
    "# Add the diagonal since the hint said the link is along the top-left to bottom-right diagonal\n",
    "link = \"\"\n",
    "\n",
    "for i in range(0, len(csv_data)):\n",
    "    link += csv_data[i][i]\n",
    "\n",
    "print(link)"
   ],
   "metadata": {
    "collapsed": false,
    "ExecuteTime": {
     "end_time": "2023-11-20T21:05:27.604829400Z",
     "start_time": "2023-11-20T21:05:27.586371600Z"
    }
   }
  },
  {
   "cell_type": "code",
   "execution_count": 14,
   "metadata": {},
   "outputs": [
    {
     "data": {
      "text/plain": [
       "'https://drive.google.com/open?id=1G6SEgg018UB4_4xsAJJ5TdzrhmXipr4Q'"
      ]
     },
     "execution_count": 14,
     "metadata": {},
     "output_type": "execute_result"
    }
   ],
   "source": [
    "# The correct result is shown below, if you can't download from Google Drive, \n",
    "# we added the PDF file to the Exercise_Files folder already"
   ]
  },
  {
   "cell_type": "markdown",
   "metadata": {},
   "source": [
    "## Task Two: Download the PDF from the Google Drive link and find the phone number that is in the document. "
   ]
  },
  {
   "cell_type": "code",
   "execution_count": 23,
   "metadata": {
    "collapsed": true,
    "ExecuteTime": {
     "end_time": "2023-11-20T21:13:11.126460500Z",
     "start_time": "2023-11-20T21:13:10.110299900Z"
    }
   },
   "outputs": [
    {
     "name": "stdout",
     "output_type": "stream",
     "text": [
      "505.503.4455\n"
     ]
    }
   ],
   "source": [
    "import PyPDF2\n",
    "import re\n",
    "\n",
    "# You should get this phone number\n",
    "# 505 503 4455\n",
    "\n",
    "# A list of possible phone number formats\n",
    "phone_number_regexes = [\n",
    "    re.compile(r\"\\d{3}.\\d{3}.\\d{4}\"),\n",
    "    re.compile(r\"\\(\\d{3}\\).\\d{3}.\\d{4}\"),\n",
    "    re.compile(r\"\\d{10}\")\n",
    "]\n",
    "\n",
    "\n",
    "with open(\"Exercise_Files/Find_the_Phone_Number.pdf\", \"rb\") as f:\n",
    "    pdf_reader = PyPDF2.PdfReader(f)\n",
    "    \n",
    "    for page in pdf_reader.pages:        \n",
    "        matches = [regex.search(page.extract_text()) for regex in phone_number_regexes]\n",
    "        \n",
    "        for match in matches:\n",
    "            if match is None:\n",
    "                continue\n",
    "                \n",
    "            print(match.group())"
   ]
  }
 ],
 "metadata": {
  "anaconda-cloud": {},
  "kernelspec": {
   "display_name": "Python 3",
   "language": "python",
   "name": "python3"
  },
  "language_info": {
   "codemirror_mode": {
    "name": "ipython",
    "version": 3
   },
   "file_extension": ".py",
   "mimetype": "text/x-python",
   "name": "python",
   "nbconvert_exporter": "python",
   "pygments_lexer": "ipython3",
   "version": "3.6.6"
  }
 },
 "nbformat": 4,
 "nbformat_minor": 2
}
