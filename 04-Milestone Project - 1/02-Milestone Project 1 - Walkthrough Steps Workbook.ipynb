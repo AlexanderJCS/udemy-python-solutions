{
 "cells": [
  {
   "cell_type": "markdown",
   "metadata": {},
   "source": [
    "___\n",
    "\n",
    "<a href='https://www.udemy.com/user/joseportilla/'><img src='../Pierian_Data_Logo.png'/></a>\n",
    "___\n",
    "<center><em>Content Copyright by Pierian Data</em></center>"
   ]
  },
  {
   "cell_type": "markdown",
   "metadata": {},
   "source": [
    "# Milestone Project 1: Walkthrough Steps Workbook\n",
    "\n",
    "Below is a set of steps for you to follow to try to create the Tic Tac Toe Milestone Project game!"
   ]
  },
  {
   "cell_type": "markdown",
   "metadata": {},
   "source": [
    "#### Some suggested tools before you get started:\n",
    "To take input from a user:\n",
    "\n",
    "    player1 = input(\"Please pick a marker 'X' or 'O'\")\n",
    "    \n",
    "Note that input() takes in a string. If you need an integer value, use\n",
    "\n",
    "    position = int(input('Please enter a number'))\n",
    "    \n",
    "<br>To clear the screen between moves:\n",
    "\n",
    "    from IPython.display import clear_output\n",
    "    clear_output()\n",
    "    \n",
    "Note that clear_output() will only work in jupyter. To clear the screen in other IDEs, consider:\n",
    "\n",
    "    print('\\n'*100)\n",
    "    \n",
    "This scrolls the previous board up out of view. Now on to the program!"
   ]
  },
  {
   "cell_type": "markdown",
   "metadata": {},
   "source": [
    "**Step 1: Write a function that can print out a board. Set up your board as a list, where each index 1-9 corresponds with a number on a number pad, so you get a 3 by 3 board representation.**"
   ]
  },
  {
   "cell_type": "code",
   "execution_count": 103,
   "metadata": {
    "collapsed": true,
    "ExecuteTime": {
     "end_time": "2023-11-18T18:04:45.636669200Z",
     "start_time": "2023-11-18T18:04:45.574195200Z"
    }
   },
   "outputs": [],
   "source": [
    "from IPython.display import clear_output\n",
    "\n",
    "def display_board(board, board_width=3, clear_screen=True):\n",
    "    if clear_screen:\n",
    "        clear_output()\n",
    "    \n",
    "    output: list[str] = [\"\"]\n",
    "    \n",
    "    # Iterate through board[1:] to skip the first element, since we don't care about that when displaying the board\n",
    "    for i, char in enumerate(board[1:]):\n",
    "        end = \"|\"\n",
    "        if (i + 1) % board_width == 0:\n",
    "            end = \"\"\n",
    "        \n",
    "        output[-1] += f\"{char}{end}\"\n",
    "        \n",
    "        if (i + 1) % board_width == 0 and i + 2 != len(board):\n",
    "            output.append(\"-----\")\n",
    "            output.append(\"\")\n",
    "    \n",
    "    # Reverse the output since 1 needs to be the bottom left and 9 needs to be the top right\n",
    "    output = output[::-1]\n",
    "    \n",
    "    print(\"\\n\".join(output))"
   ]
  },
  {
   "cell_type": "markdown",
   "metadata": {},
   "source": [
    "**TEST Step 1:** run your function on a test version of the board list, and make adjustments as necessary"
   ]
  },
  {
   "cell_type": "code",
   "execution_count": 104,
   "metadata": {
    "collapsed": true
   },
   "outputs": [
    {
     "name": "stdout",
     "output_type": "stream",
     "text": [
      "X|O|X\n",
      "-----\n",
      "O|X|O\n",
      "-----\n",
      "X|O|X\n"
     ]
    }
   ],
   "source": [
    "test_board = ['#','X','O','X','O','X','O','X','O','X']\n",
    "display_board(test_board)"
   ]
  },
  {
   "cell_type": "markdown",
   "metadata": {},
   "source": [
    "**Step 2: Write a function that can take in a player input and assign their marker as 'X' or 'O'. Think about using *while* loops to continually ask until you get a correct answer.**"
   ]
  },
  {
   "cell_type": "code",
   "execution_count": 105,
   "metadata": {
    "collapsed": true,
    "ExecuteTime": {
     "end_time": "2023-11-18T18:04:45.697598900Z",
     "start_time": "2023-11-18T18:04:45.606604600Z"
    }
   },
   "outputs": [],
   "source": [
    "def player_input():\n",
    "    marker = \"\"\n",
    "    \n",
    "    while marker not in [\"X\", \"O\"]:\n",
    "        marker = input(\"Please give a marker, X or O: \").upper()\n",
    "    \n",
    "    return marker"
   ]
  },
  {
   "cell_type": "markdown",
   "metadata": {},
   "source": [
    "**TEST Step 2:** run the function to make sure it returns the desired output"
   ]
  },
  {
   "cell_type": "code",
   "execution_count": 106,
   "metadata": {
    "collapsed": true,
    "ExecuteTime": {
     "end_time": "2023-11-18T18:04:47.879047Z",
     "start_time": "2023-11-18T18:04:45.623190Z"
    }
   },
   "outputs": [
    {
     "data": {
      "text/plain": "'X'"
     },
     "execution_count": 106,
     "metadata": {},
     "output_type": "execute_result"
    }
   ],
   "source": [
    "player_input()"
   ]
  },
  {
   "cell_type": "markdown",
   "metadata": {},
   "source": [
    "**Step 3: Write a function that takes in the board list object, a marker ('X' or 'O'), and a desired position (number 1-9) and assigns it to the board.**"
   ]
  },
  {
   "cell_type": "code",
   "execution_count": 107,
   "metadata": {
    "collapsed": true,
    "ExecuteTime": {
     "end_time": "2023-11-18T18:04:47.889675100Z",
     "start_time": "2023-11-18T18:04:47.867551600Z"
    }
   },
   "outputs": [],
   "source": [
    "def place_marker(board, marker, position):\n",
    "    board[position] = marker"
   ]
  },
  {
   "cell_type": "markdown",
   "metadata": {},
   "source": [
    "**TEST Step 3:** run the place marker function using test parameters and display the modified board"
   ]
  },
  {
   "cell_type": "code",
   "execution_count": 108,
   "metadata": {
    "collapsed": true
   },
   "outputs": [
    {
     "name": "stdout",
     "output_type": "stream",
     "text": [
      "X|$|X\n",
      "-----\n",
      "O|X|O\n",
      "-----\n",
      "X|O|X\n"
     ]
    }
   ],
   "source": [
    "place_marker(test_board,'$',8)\n",
    "display_board(test_board)"
   ]
  },
  {
   "cell_type": "markdown",
   "metadata": {},
   "source": [
    "**Step 4: Write a function that takes in a board and a mark (X or O) and then checks to see if that mark has won. **"
   ]
  },
  {
   "cell_type": "code",
   "execution_count": 109,
   "metadata": {
    "collapsed": true,
    "ExecuteTime": {
     "end_time": "2023-11-18T18:04:47.928218Z",
     "start_time": "2023-11-18T18:04:47.901150300Z"
    }
   },
   "outputs": [],
   "source": [
    "def win_check(board, mark, board_size=3):\n",
    "    # Check rows\n",
    "    # Iterate through each row\n",
    "    for i in range(1, len(board), board_size):\n",
    "        # Iterate through each col of each row\n",
    "        for j in range(0, board_size):\n",
    "            if board[i + j] != mark:\n",
    "                break\n",
    "        \n",
    "        else:  # no break (all values were equivalent to mark)\n",
    "            return True\n",
    "    \n",
    "    # Check columns\n",
    "    # Iterate through each column\n",
    "    for i in range(1, board_size + 1):\n",
    "        for j in range(0, board_size ** 2, board_size):\n",
    "            if board[i + j] != mark:\n",
    "                break\n",
    "        \n",
    "        else:  # no break (all values were equivalent to mark)\n",
    "            return True\n",
    "    \n",
    "    # Check top-left to bottom-right diagonal\n",
    "    for i in range(1, len(board), board_size):\n",
    "        if board[i] != mark:\n",
    "            break\n",
    "            \n",
    "    else:  # nobreak\n",
    "        return True\n",
    "    \n",
    "    # Check bottom-left to top-right diagonal\n",
    "    for i in range(3, len(board) - 1, board_size - 1):\n",
    "        if board[i] != mark:\n",
    "            break\n",
    "    \n",
    "    else:  # nobreak\n",
    "        return True"
   ]
  },
  {
   "cell_type": "markdown",
   "metadata": {},
   "source": [
    "**TEST Step 4:** run the win_check function against our test_board - it should return True"
   ]
  },
  {
   "cell_type": "code",
   "execution_count": 110,
   "metadata": {
    "collapsed": true,
    "ExecuteTime": {
     "end_time": "2023-11-18T18:04:47.959603200Z",
     "start_time": "2023-11-18T18:04:47.914120800Z"
    }
   },
   "outputs": [
    {
     "data": {
      "text/plain": "True"
     },
     "execution_count": 110,
     "metadata": {},
     "output_type": "execute_result"
    }
   ],
   "source": [
    "win_check(test_board, 'X')"
   ]
  },
  {
   "cell_type": "markdown",
   "metadata": {},
   "source": [
    "**Step 5: Write a function that uses the random module to randomly decide which player goes first. You may want to lookup random.randint() Return a string of which player went first.**"
   ]
  },
  {
   "cell_type": "code",
   "execution_count": 111,
   "metadata": {
    "collapsed": true,
    "ExecuteTime": {
     "end_time": "2023-11-18T18:04:47.966087900Z",
     "start_time": "2023-11-18T18:04:47.929215200Z"
    }
   },
   "outputs": [],
   "source": [
    "import random\n",
    "\n",
    "def choose_first():\n",
    "    return random.choice((\"X\", \"O\"))"
   ]
  },
  {
   "cell_type": "markdown",
   "metadata": {},
   "source": [
    "**Step 6: Write a function that returns a boolean indicating whether a space on the board is freely available.**"
   ]
  },
  {
   "cell_type": "code",
   "execution_count": 112,
   "metadata": {
    "collapsed": true,
    "ExecuteTime": {
     "end_time": "2023-11-18T18:04:47.990694500Z",
     "start_time": "2023-11-18T18:04:47.946143300Z"
    }
   },
   "outputs": [],
   "source": [
    "def space_check(board, position):\n",
    "    return board[position].strip() == \"\""
   ]
  },
  {
   "cell_type": "markdown",
   "metadata": {},
   "source": [
    "**Step 7: Write a function that checks if the board is full and returns a boolean value. True if full, False otherwise.**"
   ]
  },
  {
   "cell_type": "code",
   "execution_count": 113,
   "metadata": {
    "collapsed": true,
    "ExecuteTime": {
     "end_time": "2023-11-18T18:04:47.998179900Z",
     "start_time": "2023-11-18T18:04:47.961597100Z"
    }
   },
   "outputs": [],
   "source": [
    "def full_board_check(board):\n",
    "    for i in range(1, len(board)):\n",
    "        if space_check(board, i):\n",
    "            return False\n",
    "    \n",
    "    return True"
   ]
  },
  {
   "cell_type": "markdown",
   "metadata": {},
   "source": [
    "**Step 8: Write a function that asks for a player's next position (as a number 1-9) and then uses the function from step 6 to check if it's a free position. If it is, then return the position for later use.**"
   ]
  },
  {
   "cell_type": "code",
   "execution_count": 114,
   "metadata": {
    "collapsed": true,
    "ExecuteTime": {
     "end_time": "2023-11-18T18:04:47.999176700Z",
     "start_time": "2023-11-18T18:04:47.976236300Z"
    }
   },
   "outputs": [],
   "source": [
    "def get_next_position() -> int:\n",
    "    while True:\n",
    "        next_position = input(\"Enter your move (1-9, or exit): \")\n",
    "        \n",
    "        # Exit the game if the user types exit\n",
    "        # This is mainly so I don't have to restart IntelliJ everytime I want to run the program,\n",
    "        # since IntelliJ will just give me an infinitely-repeating popup box, preventing me from doing anything\n",
    "        if next_position == \"exit\":\n",
    "            # https://stackoverflow.com/questions/24005221/ipython-notebook-early-exit-from-cell\n",
    "            raise KeyboardInterrupt\n",
    "        \n",
    "        try:\n",
    "            next_pos_int: int = int(next_position)\n",
    "            \n",
    "            if 1 <= next_pos_int <= 9:\n",
    "                return next_pos_int\n",
    "            \n",
    "            print(\"The input value is not within the range [1, 9]\")\n",
    "            \n",
    "        except ValueError:\n",
    "            print(\"Could not parse the input value\")\n",
    "\n",
    "def player_choice(board):\n",
    "    while True:\n",
    "        next_positon = get_next_position()\n",
    "        \n",
    "        if space_check(board, next_positon):\n",
    "            return next_positon\n",
    "        \n",
    "        print(\"The space is occupied\")\n",
    "            "
   ]
  },
  {
   "cell_type": "markdown",
   "metadata": {},
   "source": [
    "**Step 9: Write a function that asks the player if they want to play again and returns a boolean True if they do want to play again.**"
   ]
  },
  {
   "cell_type": "code",
   "execution_count": 115,
   "metadata": {
    "collapsed": true,
    "ExecuteTime": {
     "end_time": "2023-11-18T18:04:48.009663300Z",
     "start_time": "2023-11-18T18:04:47.993689400Z"
    }
   },
   "outputs": [],
   "source": [
    "def replay():\n",
    "    return input(\"Do you want to play again? (y/n): \").lower() == \"y\""
   ]
  },
  {
   "cell_type": "markdown",
   "metadata": {
    "collapsed": true
   },
   "source": [
    "**Step 10: Here comes the hard part! Use while loops and the functions you've made to run the game!**"
   ]
  },
  {
   "cell_type": "code",
   "execution_count": 117,
   "metadata": {
    "collapsed": true
   },
   "outputs": [
    {
     "name": "stdout",
     "output_type": "stream",
     "text": [
      "X|X| \n",
      "-----\n",
      "O|O|O\n",
      "-----\n",
      " |X| \n",
      "Player 2 Wins!\n"
     ]
    }
   ],
   "source": [
    "print('Welcome to Tic Tac Toe!')\n",
    "\n",
    "\n",
    "def handle_turn(board, player_num, marker) -> bool:\n",
    "    \"\"\"\n",
    "    :param board: The board list\n",
    "    :param player_num: The player number (e.g., 1 for player 1, 2 for player 2)\n",
    "    :return: Whether the game should continue \n",
    "    \"\"\"\n",
    "    \n",
    "    display_board(board)\n",
    "    print(f\"\\nPlayer {player_num}'s Turn\")\n",
    "    board[player_choice(board)] = marker\n",
    "    \n",
    "    if full_board_check(board):\n",
    "        display_board(board)\n",
    "        print(\"It's a Tie!\")\n",
    "        return False\n",
    "\n",
    "    if win_check(board, marker):\n",
    "        display_board(board)\n",
    "        print(f\"Player {player_num} Wins!\")\n",
    "        return False\n",
    "    \n",
    "    return True\n",
    "\n",
    "\n",
    "while True:\n",
    "    # Set the game up here\n",
    "    board = [\" \"] * 10\n",
    "    game_on = True\n",
    "\n",
    "    player_order = [\"X\", \"O\"]\n",
    "    if player_input() == \"O\":\n",
    "        player_order = player_order[::-1]\n",
    "\n",
    "    while game_on:\n",
    "        for i, marker in enumerate(player_order):\n",
    "            game_on = handle_turn(board, i + 1, player_order[i])\n",
    "            \n",
    "            if not game_on:\n",
    "                break\n",
    "\n",
    "    if not replay():\n",
    "        break"
   ]
  },
  {
   "cell_type": "markdown",
   "metadata": {
    "collapsed": true
   },
   "source": [
    "## Good Job!"
   ]
  }
 ],
 "metadata": {
  "kernelspec": {
   "display_name": "Python 3",
   "language": "python",
   "name": "python3"
  },
  "language_info": {
   "codemirror_mode": {
    "name": "ipython",
    "version": 3
   },
   "file_extension": ".py",
   "mimetype": "text/x-python",
   "name": "python",
   "nbconvert_exporter": "python",
   "pygments_lexer": "ipython3",
   "version": "3.6.6"
  }
 },
 "nbformat": 4,
 "nbformat_minor": 1
}
